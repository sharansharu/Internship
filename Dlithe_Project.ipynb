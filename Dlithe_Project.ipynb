{
  "nbformat": 4,
  "nbformat_minor": 0,
  "metadata": {
    "colab": {
      "name": "Dlithe Project.ipynb",
      "provenance": [],
      "collapsed_sections": []
    },
    "kernelspec": {
      "name": "python3",
      "display_name": "Python 3"
    },
    "language_info": {
      "name": "python"
    }
  },
  "cells": [
    {
      "cell_type": "code",
      "execution_count": null,
      "metadata": {
        "colab": {
          "base_uri": "https://localhost:8080/",
          "height": 521
        },
        "id": "v-f6Fq22RV3p",
        "outputId": "52d982fe-1cef-490f-b7a8-9fbd3ad3322c"
      },
      "outputs": [
        {
          "output_type": "stream",
          "name": "stdout",
          "text": [
            "[[ 2. ]\n",
            " [ 7.1]\n",
            " [ 8.7]\n",
            " [ 4.5]\n",
            " [ 4. ]\n",
            " [ 9.5]\n",
            " [10.3]\n",
            " [ 9.6]\n",
            " [ 3. ]\n",
            " [ 4.9]]\n",
            "[ 44861.23167539  93414.99447353 108647.54750824  68662.09579213\n",
            "  63901.92296878 116263.8240256  123880.10054295 117215.85859027\n",
            "  54381.57732209  72470.2340508 ]\n"
          ]
        },
        {
          "output_type": "display_data",
          "data": {
            "text/plain": [
              "<Figure size 432x288 with 1 Axes>"
            ],
            "image/png": "[encoded data removed]"
          },
          "metadata": {
            "needs_background": "light"
          }
        }
      ],
      "source": [
        "#import\n",
        "\n",
        "import numpy as np\n",
        "import pandas as pd\n",
        "import matplotlib.pyplot as plt\n",
        "\n",
        "#importing the dataset\n",
        "\n",
        "data = pd.read_csv('Salary_data1.csv')\n",
        "\n",
        "#print (data)\n",
        "\n",
        "x = data.iloc[:,:-1].values\n",
        "y = data.iloc[:,1].values\n",
        "\n",
        "#spliting the data\n",
        "\n",
        "from sklearn.model_selection import train_test_split\n",
        "x_train,x_test, y_train, y_test = train_test_split(x,y,test_size = 1/3, random_state=0)\n",
        "print(x_test)\n",
        "\n",
        "#filtering the model\n",
        "\n",
        "from sklearn.linear_model import LinearRegression\n",
        "regressor = LinearRegression()\n",
        "regressor.fit(x_train,y_train)\n",
        "\n",
        "y_pred = regressor.predict(x_test)\n",
        "print(y_pred)\n",
        "\n",
        "#visualisating the result\n",
        "\n",
        "plt.scatter(x_train,y_train,color = 'red')\n",
        "plt.plot(x_train, regressor.predict(x_train), color = 'blue')\n",
        "plt.title('Salary vs Experience')\n",
        "plt.xlabel('yrs of exp')\n",
        "plt.ylabel('salary')\n",
        "plt.show()"
      ]
    }
  ]
}